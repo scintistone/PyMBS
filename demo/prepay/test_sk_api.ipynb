{
 "cells": [
  {
   "cell_type": "code",
   "execution_count": 1,
   "metadata": {},
   "outputs": [],
   "source": [
    "from sklearn.datasets import load_iris\n",
    "from sklearn.decomposition import PCA\n",
    "from sklearn.feature_selection import SelectKBest\n",
    "from sklearn.model_selection import GridSearchCV\n",
    "from sklearn.pipeline import FeatureUnion, Pipeline\n",
    "from sklearn.svm import SVC"
   ]
  },
  {
   "cell_type": "code",
   "execution_count": 2,
   "metadata": {},
   "outputs": [],
   "source": [
    "iris = load_iris()\n",
    "\n",
    "X, y = iris.data, iris.target"
   ]
  },
  {
   "cell_type": "code",
   "execution_count": 7,
   "metadata": {},
   "outputs": [
    {
     "data": {
      "text/plain": [
       "(150, 4)"
      ]
     },
     "execution_count": 7,
     "metadata": {},
     "output_type": "execute_result"
    }
   ],
   "source": [
    "X.shape"
   ]
  },
  {
   "cell_type": "code",
   "execution_count": 3,
   "metadata": {},
   "outputs": [],
   "source": [
    "# This dataset is way too high-dimensional. Better do PCA:\n",
    "pca = PCA(n_components=2)\n",
    "\n",
    "# Maybe some original features were good, too?\n",
    "selection = SelectKBest(k=1)\n",
    "\n",
    "# Build estimator from PCA and Univariate selection:\n",
    "\n",
    "combined_features = FeatureUnion([(\"pca\", pca), (\"univ_select\", selection)])\n"
   ]
  },
  {
   "cell_type": "code",
   "execution_count": 4,
   "metadata": {},
   "outputs": [],
   "source": [
    "# Use combined features to transform dataset:\n",
    "X_features = combined_features.fit(X, y).transform(X)"
   ]
  },
  {
   "cell_type": "code",
   "execution_count": 5,
   "metadata": {},
   "outputs": [
    {
     "name": "stdout",
     "output_type": "stream",
     "text": [
      "Combined space has 3 features\n"
     ]
    }
   ],
   "source": [
    "print(\"Combined space has\", X_features.shape[1], \"features\")"
   ]
  },
  {
   "cell_type": "markdown",
   "metadata": {},
   "source": [
    "class ToyModel(Component):\n",
    "    def __init__(self):\n",
    "        TurnoverMax = 7.5\n",
    "        TurnoverMaxAge = 30\n",
    "        TurnoverMultiplier = 1.0\n",
    "\n",
    "        turnover = Effect1D(None, None, \n",
    "                            'wala', 'ht_cpr',\n",
    "                            lambda x : TurnoverMultiplier * TurnoverMax * (2/ (1 + np.exp(-4.5 * x/TurnoverMaxAge))-1)/100)\n",
    "        \n",
    "        RefiMax = 60\n",
    "        RefiInflection = 150\n",
    "        RefiRamp = 50\n",
    "        RefiMultiplier = 1\n",
    "\n",
    "        refi = Effect1D(None, None,\n",
    "                        'incentive', 'rf_cpr',\n",
    "                        lambda x: RefiMultiplier * RefiMax / (1+np.exp(-(x-RefiInflection)/RefiRamp))/100)\n",
    "        super().__init__('ToyModel', [turnover, refi], False)\n",
    "    \n",
    "    def __call__(self, x):\n",
    "        '''return smm'''\n",
    "        return cpr2smm(super().__call__(x))"
   ]
  },
  {
   "cell_type": "code",
   "execution_count": 9,
   "metadata": {},
   "outputs": [],
   "source": [
    "import numpy as np\n",
    "\n",
    "def smm2cpr(smm):\n",
    "    return 1 - np.power(1 - smm, 12)\n",
    "\n",
    "\n",
    "def cpr2smm(cpr):\n",
    "    return 1 - np.power(1 - cpr, 1/12)"
   ]
  },
  {
   "cell_type": "code",
   "execution_count": 39,
   "metadata": {},
   "outputs": [],
   "source": [
    "from sklearn.base import BaseEstimator, RegressorMixin, TransformerMixin\n",
    "from sklearn.compose import ColumnTransformer\n",
    "from sklearn.pipeline import FeatureUnion, Pipeline\n",
    "from sklearn.linear_model._glm import _GeneralizedLinearRegressor\n",
    "import pandas as pd\n",
    "from sklearn.metrics import root_mean_squared_error\n",
    "from sklearn._loss import HalfPoissonLoss, HalfSquaredError"
   ]
  },
  {
   "cell_type": "code",
   "execution_count": null,
   "metadata": {},
   "outputs": [],
   "source": [
    "\n",
    "\n",
    "\n",
    "class PrepayRegressor(_GeneralizedLinearRegressor):\n",
    "    '''Regression model for prepayment:\n",
    "    Functions:\n",
    "    - fit: fit the model\n",
    "    - predict: predict the prepayment rate\n",
    "    - set_params: set a subset of effects for calibration while others are fixed\n",
    "    - get_params: get the parameters of the model\n",
    "    - get_effects: get the effects of the model\n",
    "    - set_effects: set the effects of the model\n",
    "    - seet_regression_type: set the regression type Least-squre or poisson regression\n",
    "    '''\n",
    "    def __init__(self,         \n",
    "                 effects: FeatureUnion,\n",
    "                 multiplicative = True,\n",
    "                 solver=\"lbfgs\",\n",
    "                 max_iter=100,\n",
    "                 tol=1e-4,\n",
    "                 warm_start=False,\n",
    "                 verbose=0,\n",
    "                 ):\n",
    "        super().__init__(\n",
    "                        alpha=0,\n",
    "                        fit_intercept=False,\n",
    "                        solver=solver,\n",
    "                        max_iter=max_iter,\n",
    "                        tol=tol,\n",
    "                        warm_start=warm_start,\n",
    "                        verbose=verbose,\n",
    "                    )\n",
    "        self.effects = effects\n",
    "        self.multiplicative = multiplicative\n",
    "        self.set_fit_request()\n",
    "\n",
    "    def _get_loss(self):\n",
    "        if self.regression_type == 'ls':\n",
    "            return HalfSquaredError()\n",
    "        elif self.regression_type == 'poisson':\n",
    "            return HalfPoissonLoss()\n",
    "    \n",
    "    def _linear_predictor(self, X):\n",
    "        if self.multiplicative:\n",
    "            return self.effects.transform(X).prod(axis=1)\n",
    "        else:\n",
    "            return self.effects.transform(X).sum(axis=1)\n",
    "    \n",
    "    def get_effect_names(self):\n",
    "        return self.effects.get_feature_names_out()\n",
    "    \n",
    "    def set_fit_request(self, \n",
    "                        free_effects: list[str] = None,\n",
    "                        regression_type:list['ls', 'poisson'] = 'ls', \n",
    "                        sample_weight = None):\n",
    "        self.regression_type = regression_type\n",
    "        self.sample_weight = sample_weight\n",
    "\n",
    "    def score(self, X, y, sample_weight = None):\n",
    "        '''if ls regression, return the rmse,\n",
    "        if poisson regression, return the negative log likelihood'''\n",
    "        y_pred = self.transform(X)\n",
    "        if sample_weight is None:\n",
    "            sample_weight = self.sample_weight\n",
    "        \n",
    "        if isinstance(sample_weight, str):\n",
    "            sample_weight = X[sample_weight]\n",
    "\n",
    "        if self.regression_type == 'ls':\n",
    "            return root_mean_squared_error(y, y_pred, sample_weight)\n",
    "        \n",
    "        elif self.regression_type == 'poisson':\n",
    "            return super().score(X, y, sample_weight)\n",
    "        \n",
    "        else:\n",
    "            pass\n",
    "    \n",
    "    def fit(self, X, y, sample_weight = None):\n",
    "        # optimization to find the best parameters\n",
    "        return self\n",
    "\n",
    "    def predict(self, X: pd.DataFrame):\n",
    "        return self._linear_predictor(X)\n",
    "    \n",
    "\n"
   ]
  },
  {
   "cell_type": "code",
   "execution_count": null,
   "metadata": {},
   "outputs": [],
   "source": [
    "class ToyTurnover(RegressorMixin, BaseEstimator):\n",
    "    def __init__(self,         \n",
    "                 TurnoverMax = 7.5,\n",
    "                 TurnoverMaxAge = 30,\n",
    "                 TurnoverMultiplier = 1.0):\n",
    "        self.TurnoverMax = TurnoverMax\n",
    "        self.TurnoverMaxAge = TurnoverMaxAge\n",
    "        self.TurnoverMultiplier = TurnoverMultiplier\n",
    "\n",
    "    def fit(self, X, y):\n",
    "        return self\n",
    "\n",
    "    def predict(self, X: pd.DataFrame):\n",
    "        '''X must have wala column'''\n",
    "        self.fit()\n",
    "        if isinstance(X, pd.DataFrame):\n",
    "            X_in = X['wala']\n",
    "        elif isinstance(X, pd.Series):\n",
    "            X_in = X.values\n",
    "        else:\n",
    "            X_in = X[:, 0]\n",
    "        return cpr2smm(self.TurnoverMultiplier * self.TurnoverMax * (2/ (1 + np.exp(-4.5 * X_in/self.TurnoverMaxAge))-1)/100)\n",
    "\n",
    "\n",
    "class ToyRefinance(RegressorMixin, BaseEstimator):\n",
    "    def __init__(self,         \n",
    "                 RefiMax = 60,\n",
    "                 RefiInflection = 150,\n",
    "                 RefiRamp = 50,\n",
    "                 RefiMultiplier = 1):\n",
    "        self.RefiMax = RefiMax\n",
    "        self.RefiInflection = RefiInflection\n",
    "        self.RefiRamp = RefiRamp\n",
    "        self.RefiMultiplier = RefiMultiplier\n",
    "\n",
    "    def fit(self, X, y):\n",
    "        return self\n",
    "\n",
    "    def predict(self, X: pd.DataFrame):\n",
    "        '''X: incentive in bps'''\n",
    "        self.fit(   )\n",
    "\n",
    "        if isinstance(X, pd.DataFrame):\n",
    "            X_in = X['incentive']\n",
    "        elif isinstance(X, pd.Series):\n",
    "            X_in = X.values\n",
    "        else:\n",
    "            X_in = X[:, 0]\n",
    "        return cpr2smm(self.RefiMultiplier * self.RefiMax / (1+np.exp(-(X_in-self.RefiInflection)/self.RefiRamp))/100)\n"
   ]
  },
  {
   "cell_type": "code",
   "execution_count": 32,
   "metadata": {},
   "outputs": [
    {
     "ename": "TypeError",
     "evalue": "ToyTurnover.fit() missing 2 required positional arguments: 'X' and 'y'",
     "output_type": "error",
     "traceback": [
      "\u001b[1;31m---------------------------------------------------------------------------\u001b[0m",
      "\u001b[1;31mTypeError\u001b[0m                                 Traceback (most recent call last)",
      "Cell \u001b[1;32mIn[32], line 3\u001b[0m\n\u001b[0;32m      1\u001b[0m \u001b[38;5;28;01mfrom\u001b[39;00m\u001b[38;5;250m \u001b[39m\u001b[38;5;21;01msklearn\u001b[39;00m\u001b[38;5;21;01m.\u001b[39;00m\u001b[38;5;21;01mutils\u001b[39;00m\u001b[38;5;21;01m.\u001b[39;00m\u001b[38;5;21;01mestimator_checks\u001b[39;00m\u001b[38;5;250m \u001b[39m\u001b[38;5;28;01mimport\u001b[39;00m check_estimator\n\u001b[1;32m----> 3\u001b[0m \u001b[43mcheck_estimator\u001b[49m\u001b[43m(\u001b[49m\u001b[43mToyTurnover\u001b[49m\u001b[43m(\u001b[49m\u001b[43m)\u001b[49m\u001b[43m)\u001b[49m\n",
      "File \u001b[1;32md:\\miniconda3\\envs\\RL\\Lib\\site-packages\\sklearn\\utils\\_param_validation.py:216\u001b[0m, in \u001b[0;36mvalidate_params.<locals>.decorator.<locals>.wrapper\u001b[1;34m(*args, **kwargs)\u001b[0m\n\u001b[0;32m    210\u001b[0m \u001b[38;5;28;01mtry\u001b[39;00m:\n\u001b[0;32m    211\u001b[0m     \u001b[38;5;28;01mwith\u001b[39;00m config_context(\n\u001b[0;32m    212\u001b[0m         skip_parameter_validation\u001b[38;5;241m=\u001b[39m(\n\u001b[0;32m    213\u001b[0m             prefer_skip_nested_validation \u001b[38;5;129;01mor\u001b[39;00m global_skip_validation\n\u001b[0;32m    214\u001b[0m         )\n\u001b[0;32m    215\u001b[0m     ):\n\u001b[1;32m--> 216\u001b[0m         \u001b[38;5;28;01mreturn\u001b[39;00m \u001b[43mfunc\u001b[49m\u001b[43m(\u001b[49m\u001b[38;5;241;43m*\u001b[39;49m\u001b[43margs\u001b[49m\u001b[43m,\u001b[49m\u001b[43m \u001b[49m\u001b[38;5;241;43m*\u001b[39;49m\u001b[38;5;241;43m*\u001b[39;49m\u001b[43mkwargs\u001b[49m\u001b[43m)\u001b[49m\n\u001b[0;32m    217\u001b[0m \u001b[38;5;28;01mexcept\u001b[39;00m InvalidParameterError \u001b[38;5;28;01mas\u001b[39;00m e:\n\u001b[0;32m    218\u001b[0m     \u001b[38;5;66;03m# When the function is just a wrapper around an estimator, we allow\u001b[39;00m\n\u001b[0;32m    219\u001b[0m     \u001b[38;5;66;03m# the function to delegate validation to the estimator, but we replace\u001b[39;00m\n\u001b[0;32m    220\u001b[0m     \u001b[38;5;66;03m# the name of the estimator by the name of the function in the error\u001b[39;00m\n\u001b[0;32m    221\u001b[0m     \u001b[38;5;66;03m# message to avoid confusion.\u001b[39;00m\n\u001b[0;32m    222\u001b[0m     msg \u001b[38;5;241m=\u001b[39m re\u001b[38;5;241m.\u001b[39msub(\n\u001b[0;32m    223\u001b[0m         \u001b[38;5;124mr\u001b[39m\u001b[38;5;124m\"\u001b[39m\u001b[38;5;124mparameter of \u001b[39m\u001b[38;5;124m\\\u001b[39m\u001b[38;5;124mw+ must be\u001b[39m\u001b[38;5;124m\"\u001b[39m,\n\u001b[0;32m    224\u001b[0m         \u001b[38;5;124mf\u001b[39m\u001b[38;5;124m\"\u001b[39m\u001b[38;5;124mparameter of \u001b[39m\u001b[38;5;132;01m{\u001b[39;00mfunc\u001b[38;5;241m.\u001b[39m\u001b[38;5;18m__qualname__\u001b[39m\u001b[38;5;132;01m}\u001b[39;00m\u001b[38;5;124m must be\u001b[39m\u001b[38;5;124m\"\u001b[39m,\n\u001b[0;32m    225\u001b[0m         \u001b[38;5;28mstr\u001b[39m(e),\n\u001b[0;32m    226\u001b[0m     )\n",
      "File \u001b[1;32md:\\miniconda3\\envs\\RL\\Lib\\site-packages\\sklearn\\utils\\estimator_checks.py:858\u001b[0m, in \u001b[0;36mcheck_estimator\u001b[1;34m(estimator, generate_only, legacy, expected_failed_checks, on_skip, on_fail, callback)\u001b[0m\n\u001b[0;32m    854\u001b[0m test_can_fail, reason \u001b[38;5;241m=\u001b[39m _should_be_skipped_or_marked(\n\u001b[0;32m    855\u001b[0m     estimator, check, expected_failed_checks\n\u001b[0;32m    856\u001b[0m )\n\u001b[0;32m    857\u001b[0m \u001b[38;5;28;01mtry\u001b[39;00m:\n\u001b[1;32m--> 858\u001b[0m     \u001b[43mcheck\u001b[49m\u001b[43m(\u001b[49m\u001b[43mestimator\u001b[49m\u001b[43m)\u001b[49m\n\u001b[0;32m    859\u001b[0m \u001b[38;5;28;01mexcept\u001b[39;00m SkipTest \u001b[38;5;28;01mas\u001b[39;00m e:\n\u001b[0;32m    860\u001b[0m     \u001b[38;5;66;03m# We get here if the test raises SkipTest, which is expected in cases where\u001b[39;00m\n\u001b[0;32m    861\u001b[0m     \u001b[38;5;66;03m# the check cannot run for instance if a required dependency is not\u001b[39;00m\n\u001b[0;32m    862\u001b[0m     \u001b[38;5;66;03m# installed.\u001b[39;00m\n\u001b[0;32m    863\u001b[0m     check_result \u001b[38;5;241m=\u001b[39m {\n\u001b[0;32m    864\u001b[0m         \u001b[38;5;124m\"\u001b[39m\u001b[38;5;124mestimator\u001b[39m\u001b[38;5;124m\"\u001b[39m: estimator,\n\u001b[0;32m    865\u001b[0m         \u001b[38;5;124m\"\u001b[39m\u001b[38;5;124mcheck_name\u001b[39m\u001b[38;5;124m\"\u001b[39m: _check_name(check),\n\u001b[1;32m   (...)\u001b[0m\n\u001b[0;32m    869\u001b[0m         \u001b[38;5;124m\"\u001b[39m\u001b[38;5;124mexpected_to_fail_reason\u001b[39m\u001b[38;5;124m\"\u001b[39m: reason,\n\u001b[0;32m    870\u001b[0m     }\n",
      "File \u001b[1;32md:\\miniconda3\\envs\\RL\\Lib\\site-packages\\sklearn\\utils\\_testing.py:147\u001b[0m, in \u001b[0;36m_IgnoreWarnings.__call__.<locals>.wrapper\u001b[1;34m(*args, **kwargs)\u001b[0m\n\u001b[0;32m    145\u001b[0m \u001b[38;5;28;01mwith\u001b[39;00m warnings\u001b[38;5;241m.\u001b[39mcatch_warnings():\n\u001b[0;32m    146\u001b[0m     warnings\u001b[38;5;241m.\u001b[39msimplefilter(\u001b[38;5;124m\"\u001b[39m\u001b[38;5;124mignore\u001b[39m\u001b[38;5;124m\"\u001b[39m, \u001b[38;5;28mself\u001b[39m\u001b[38;5;241m.\u001b[39mcategory)\n\u001b[1;32m--> 147\u001b[0m     \u001b[38;5;28;01mreturn\u001b[39;00m \u001b[43mfn\u001b[49m\u001b[43m(\u001b[49m\u001b[38;5;241;43m*\u001b[39;49m\u001b[43margs\u001b[49m\u001b[43m,\u001b[49m\u001b[43m \u001b[49m\u001b[38;5;241;43m*\u001b[39;49m\u001b[38;5;241;43m*\u001b[39;49m\u001b[43mkwargs\u001b[49m\u001b[43m)\u001b[49m\n",
      "File \u001b[1;32md:\\miniconda3\\envs\\RL\\Lib\\site-packages\\sklearn\\utils\\estimator_checks.py:2236\u001b[0m, in \u001b[0;36mcheck_fit_score_takes_y\u001b[1;34m(name, estimator_orig)\u001b[0m\n\u001b[0;32m   2234\u001b[0m func \u001b[38;5;241m=\u001b[39m \u001b[38;5;28mgetattr\u001b[39m(estimator, func_name, \u001b[38;5;28;01mNone\u001b[39;00m)\n\u001b[0;32m   2235\u001b[0m \u001b[38;5;28;01mif\u001b[39;00m func \u001b[38;5;129;01mis\u001b[39;00m \u001b[38;5;129;01mnot\u001b[39;00m \u001b[38;5;28;01mNone\u001b[39;00m:\n\u001b[1;32m-> 2236\u001b[0m     \u001b[43mfunc\u001b[49m\u001b[43m(\u001b[49m\u001b[43mX\u001b[49m\u001b[43m,\u001b[49m\u001b[43m \u001b[49m\u001b[43my\u001b[49m\u001b[43m)\u001b[49m\n\u001b[0;32m   2237\u001b[0m     args \u001b[38;5;241m=\u001b[39m [p\u001b[38;5;241m.\u001b[39mname \u001b[38;5;28;01mfor\u001b[39;00m p \u001b[38;5;129;01min\u001b[39;00m signature(func)\u001b[38;5;241m.\u001b[39mparameters\u001b[38;5;241m.\u001b[39mvalues()]\n\u001b[0;32m   2238\u001b[0m     \u001b[38;5;28;01mif\u001b[39;00m args[\u001b[38;5;241m0\u001b[39m] \u001b[38;5;241m==\u001b[39m \u001b[38;5;124m\"\u001b[39m\u001b[38;5;124mself\u001b[39m\u001b[38;5;124m\"\u001b[39m:\n\u001b[0;32m   2239\u001b[0m         \u001b[38;5;66;03m# available_if makes methods into functions\u001b[39;00m\n\u001b[0;32m   2240\u001b[0m         \u001b[38;5;66;03m# with an explicit \"self\", so need to shift arguments\u001b[39;00m\n",
      "File \u001b[1;32md:\\miniconda3\\envs\\RL\\Lib\\site-packages\\sklearn\\base.py:662\u001b[0m, in \u001b[0;36mRegressorMixin.score\u001b[1;34m(self, X, y, sample_weight)\u001b[0m\n\u001b[0;32m    620\u001b[0m \u001b[38;5;250m\u001b[39m\u001b[38;5;124;03m\"\"\"Return the coefficient of determination of the prediction.\u001b[39;00m\n\u001b[0;32m    621\u001b[0m \n\u001b[0;32m    622\u001b[0m \u001b[38;5;124;03mThe coefficient of determination :math:`R^2` is defined as\u001b[39;00m\n\u001b[1;32m   (...)\u001b[0m\n\u001b[0;32m    657\u001b[0m \u001b[38;5;124;03m:class:`~sklearn.multioutput.MultiOutputRegressor`).\u001b[39;00m\n\u001b[0;32m    658\u001b[0m \u001b[38;5;124;03m\"\"\"\u001b[39;00m\n\u001b[0;32m    660\u001b[0m \u001b[38;5;28;01mfrom\u001b[39;00m\u001b[38;5;250m \u001b[39m\u001b[38;5;21;01m.\u001b[39;00m\u001b[38;5;21;01mmetrics\u001b[39;00m\u001b[38;5;250m \u001b[39m\u001b[38;5;28;01mimport\u001b[39;00m r2_score\n\u001b[1;32m--> 662\u001b[0m y_pred \u001b[38;5;241m=\u001b[39m \u001b[38;5;28;43mself\u001b[39;49m\u001b[38;5;241;43m.\u001b[39;49m\u001b[43mpredict\u001b[49m\u001b[43m(\u001b[49m\u001b[43mX\u001b[49m\u001b[43m)\u001b[49m\n\u001b[0;32m    663\u001b[0m \u001b[38;5;28;01mreturn\u001b[39;00m r2_score(y, y_pred, sample_weight\u001b[38;5;241m=\u001b[39msample_weight)\n",
      "Cell \u001b[1;32mIn[31], line 21\u001b[0m, in \u001b[0;36mToyTurnover.predict\u001b[1;34m(self, X)\u001b[0m\n\u001b[0;32m     19\u001b[0m \u001b[38;5;28;01mdef\u001b[39;00m\u001b[38;5;250m \u001b[39m\u001b[38;5;21mpredict\u001b[39m(\u001b[38;5;28mself\u001b[39m, X: pd\u001b[38;5;241m.\u001b[39mDataFrame):\n\u001b[0;32m     20\u001b[0m \u001b[38;5;250m    \u001b[39m\u001b[38;5;124;03m'''X must have wala column'''\u001b[39;00m\n\u001b[1;32m---> 21\u001b[0m     \u001b[38;5;28;43mself\u001b[39;49m\u001b[38;5;241;43m.\u001b[39;49m\u001b[43mfit\u001b[49m\u001b[43m(\u001b[49m\u001b[43m)\u001b[49m\n\u001b[0;32m     22\u001b[0m     \u001b[38;5;28;01mif\u001b[39;00m \u001b[38;5;28misinstance\u001b[39m(X, pd\u001b[38;5;241m.\u001b[39mDataFrame):\n\u001b[0;32m     23\u001b[0m         X_in \u001b[38;5;241m=\u001b[39m X[\u001b[38;5;124m'\u001b[39m\u001b[38;5;124mwala\u001b[39m\u001b[38;5;124m'\u001b[39m]\n",
      "\u001b[1;31mTypeError\u001b[0m: ToyTurnover.fit() missing 2 required positional arguments: 'X' and 'y'"
     ]
    }
   ],
   "source": [
    "from sklearn.utils.estimator_checks import check_estimator\n",
    "\n",
    "check_estimator(ToyTurnover())"
   ]
  },
  {
   "cell_type": "code",
   "execution_count": null,
   "metadata": {},
   "outputs": [],
   "source": [
    "class ToyModelRegressor(RegressorMixin, BaseEstimator):\n",
    "    def __init__(self):\n",
    "        pass\n",
    "\n",
    "    def fit(self, X, y):\n",
    "        return self\n",
    "\n",
    "    def predict(self, X):\n",
    "        return X.sum(axis=1)\n",
    "    \n",
    "    def score(self, X, y, sample_weight = None):\n",
    "        return super().score(X, y, sample_weight)\n",
    "    \n",
    "    \n",
    "comp = ColumnTransformer([\n",
    "                        ('tf_smm', ToyTurnover(), ['wala']),\n",
    "                        ('rf_smm', ToyRefinance(), ['incentive'])\n",
    "                        ])\n",
    "\n",
    "Pipeline()"
   ]
  }
 ],
 "metadata": {
  "kernelspec": {
   "display_name": "RL",
   "language": "python",
   "name": "python3"
  },
  "language_info": {
   "codemirror_mode": {
    "name": "ipython",
    "version": 3
   },
   "file_extension": ".py",
   "mimetype": "text/x-python",
   "name": "python",
   "nbconvert_exporter": "python",
   "pygments_lexer": "ipython3",
   "version": "3.12.4"
  }
 },
 "nbformat": 4,
 "nbformat_minor": 2
}
